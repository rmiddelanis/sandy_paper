{
 "cells": [
  {
   "cell_type": "code",
   "execution_count": 1,
   "metadata": {},
   "outputs": [],
   "source": [
    "import pandas as pd\n",
    "import numpy as np\n",
    "import matplotlib.pyplot as plt\n",
    "import os\n",
    "import sys\n",
    "from netCDF4 import Dataset\n",
    "from scipy.optimize import fsolve\n",
    "import numpy as np\n",
    "from os import path"
   ]
  },
  {
   "cell_type": "code",
   "execution_count": 2,
   "metadata": {},
   "outputs": [],
   "source": [
    "# total (direct) disaster damage (i.e., assets / production capital) on a state level, same for both states\n",
    "D_0 = 30.233e9\n",
    "\n",
    "year = 2012\n",
    "states = ['NJ', 'NY']\n",
    "storm = 'SANDY'"
   ]
  },
  {
   "cell_type": "markdown",
   "metadata": {},
   "source": [
    "# 1 Economic Losses\n",
    "\n",
    "We assume different reasons for reduced production after the hurricane:\n",
    "- **Business interruption outages ($f_{BI}$)**: Due to the biophysical impact of the disaster, businesses cannot operate in the immediate aftermath of the hurricane. We define a duration $t_r$, after which the economy should have recovered from the business interruption shock. The initial forcing intensity $f_{BI}^{(0)}$ of this shock is given by the GDP of the region that is covered by the disaster.\n",
    "- **Reconstruction outages ('forced investment', $f_R$)**: Damages need to be reconstructed, 'blocking' other production capacities. We assume that reconstruction is accomplished by seven sectors only: $B = \\{CONS, REPA, WOOD, OILC, METL, MACH, MANU\\}$. We assume exponential reconstruction, either \n",
    "    - starting with a reconstruction effort at time step $t = 0$ of $\\alpha_0 X^*$. $\\alpha_0$ is the share of (unperturbed) GDP that an economy can dedicate to reconstruction. Fitting the area to the total damage, this results in a duration for reconstruction, OR\n",
    "    - setting the reconstruction duration $t_r$ and fitting the area to the total damage, this results in an initial reconstruction effort $\\alpha_0$ and time constant $\\tau_{R}$\n",
    "- **Damage outages ($f_D$)**: productive capital would usually create output. Hence, production is reduced by the fraction of productive capital that is (still) destroyed at time step $t$. Initial capital $K_0$ is estimated using the (national) capital-output ratio $r$.\n",
    "\n",
    "We assume damage and reconstruction outages to add up in an additive way, i.e. $f_D + f_R$.\n",
    "\n",
    "We further assume that business interruption disturbs the remaining productive capacity and therefore adds up in a multiplicative way. Hence, total forcing results to $f = f_D + f_R + f_{BI}\\left(1 - (f_D + f_R)\\right)$. Note that $f_R = 0$ for all sectors $s\\notin B$\n",
    "\n",
    "Alternative way:\n",
    "\n",
    "$f = max(f_D, f_{BI}) + f_R$"
   ]
  },
  {
   "cell_type": "markdown",
   "metadata": {},
   "source": [
    "## 1.1 Business Interruption\n",
    "\n",
    "We assume an initial business interruption shock due to the disaster as the fraction of GDP that is exposed to the disaster, measured by affected counties. \n",
    "For Hurricane Sandy, we assume that this shock recovers exponentially and has recovered after about two months (i.e. $f(t_r=60)=f_{r, BI}<=0.001$).\n",
    "\n",
    "$f_{BI}(t) = f_{BI}^{(0)} e^{-t / \\tau_{BI}}$\n",
    "\n",
    "Where $f_{BI}^{(0)}$ is the initial business interruption directly after the disaster.\n",
    "\n",
    "We assume recovery after ~60 days, i.e. until the end of the year 2012 after Sandy. This time horizon is suggested by a comment of the Federal Reserve Bank of New York: \"*both states saw employment rebound to above October (pre-Sandy) levels by the end of the year.*\"\n",
    "(https://libertystreeteconomics.newyorkfed.org/2013/03/the-regions-job-rebound-from-superstorm-sandy.html)\n",
    "\n",
    "Resulting curves match this report: https://downtownny.com/wp-content/uploads/2020/10/Back-to-Business-State-of-LM-Report_2013_Final_Reduced1.pdf"
   ]
  },
  {
   "cell_type": "code",
   "execution_count": 3,
   "metadata": {},
   "outputs": [],
   "source": [
    "def get_bi_curve(_state='NJ', _t_r_bi=60, _f_r_bi=0.001, _t_max=1000):\n",
    "    initial_forcing = pd.read_csv(\"../data/generated/gdp_exposure.csv\", index_col=0)\n",
    "    f_0 = initial_forcing.loc[_state, 'exposure']\n",
    "    days = np.arange(_t_max)\n",
    "    tau_bi = -_t_r_bi / np.log(_f_r_bi / f_0)\n",
    "    f_bi = f_0 * np.exp(-days / tau_bi)\n",
    "    if _t_max > _t_r_bi:\n",
    "        f_bi[_t_r_bi+1:] = 0\n",
    "    return f_bi"
   ]
  },
  {
   "cell_type": "markdown",
   "metadata": {},
   "source": [
    "## 1.2 Reconstruction Loss\n",
    "\n",
    "Two approaches for calculating reconstruction efforts:\n",
    "- start with $L_R (t=0) = \\alpha X^*$ and decay exponentially, fit the curve to the total damage and obtain a recovery time $t_{r, R}$.\n",
    "- set recovery time $t_{r, R}$ such that e.g. $L_R (t_{r, R}) = 0.01 L_R(0)$ and fit the curve to the total damage, obtain initial recovery effort $\\alpha X^*$."
   ]
  },
  {
   "cell_type": "code",
   "execution_count": 18,
   "metadata": {},
   "outputs": [],
   "source": [
    "reconstruction_sector_shares = {\n",
    "    'CONS': 0.5,\n",
    "    'MANU': 0.2,\n",
    "    'REPA': 0.0,\n",
    "    'WOOD': 0.0,\n",
    "    'OILC': 0.0,\n",
    "    'METL': 0.15,\n",
    "    'MACH': 0.15,\n",
    "    'FCON': 0.0,\n",
    "    'AGRI': 0.0,\n",
    "    'FISH': 0.0,\n",
    "    'MINQ': 0.0,\n",
    "    'FOOD': 0.0,\n",
    "    'TEXL': 0.0,\n",
    "    'TREQ': 0.0,\n",
    "    'RECY': 0.0,\n",
    "    'ELWA': 0.0,\n",
    "    'WHOT': 0.0,\n",
    "    'RETT': 0.0,\n",
    "    'GAST': 0.0,\n",
    "    'TRAN': 0.0,\n",
    "    'COMM': 0.0,\n",
    "    'FINC': 0.0,\n",
    "    'ADMI': 0.0,\n",
    "    'EDHE': 0.0,\n",
    "    'HOUS': 0.0,\n",
    "    'OTHE': 0.0,\n",
    "    'REXI': 0.0,\n",
    "}\n",
    "\n",
    "state_reconstruction_share = 0.5"
   ]
  },
  {
   "cell_type": "code",
   "execution_count": 5,
   "metadata": {},
   "outputs": [],
   "source": [
    "def get_eora_sector_shares(_state='NJ'):\n",
    "    eora_baseline = Dataset('/home/robin/repos/hurricanes_hindcasting_remake/forcing_gen/data/baseline/EORA_{}/output.nc'.format(year))\n",
    "    region_index = np.where(eora_baseline['/region'][:] == 'US.'+_state)[0][0]\n",
    "    sector_shares = eora_baseline['agents/production'][0, :, region_index] / eora_baseline['agents/production'][0, :, region_index].sum()\n",
    "    sector_shares = np.nan_to_num(sector_shares.data)\n",
    "    res = {}\n",
    "    for s_idx, s in enumerate(eora_baseline['/sector'][:]):\n",
    "        res[s] = sector_shares[s_idx]\n",
    "    eora_baseline.close()\n",
    "    return res"
   ]
  },
  {
   "cell_type": "code",
   "execution_count": 17,
   "metadata": {},
   "outputs": [
    {
     "name": "stdout",
     "output_type": "stream",
     "text": [
      "0.04973294384229728\n",
      "0.009029567747969203\n",
      "0.0017365730255241238\n",
      "0.016454809039446336\n",
      "0.061434205727509586\n",
      "0.017891886478539513\n",
      "0.057051384159411356\n"
     ]
    }
   ],
   "source": [
    "print(get_eora_sector_shares('NY')['CONS'])\n",
    "print(get_eora_sector_shares('NY')['MANU'])\n",
    "print(get_eora_sector_shares('NY')['REPA'])\n",
    "print(get_eora_sector_shares('NY')['WOOD'])\n",
    "print(get_eora_sector_shares('NY')['OILC'])\n",
    "print(get_eora_sector_shares('NY')['METL'])\n",
    "print(get_eora_sector_shares('NY')['MACH'])"
   ]
  },
  {
   "cell_type": "code",
   "execution_count": 7,
   "metadata": {},
   "outputs": [],
   "source": [
    "def get_baseline_production(_state='NJ'):\n",
    "    gdp_by_state = pd.read_csv('../data/generated/gdp_by_state.csv', index_col=[0, 1])\n",
    "    gdp_state = gdp_by_state.loc[(_state, 'All industry total'), str(year)]\n",
    "    gdp_state = gdp_state * 1e6\n",
    "    X_star = gdp_state / 365\n",
    "    return X_star"
   ]
  },
  {
   "cell_type": "markdown",
   "metadata": {},
   "source": [
    "### 1.2.1 Set initial reconstruction effort\n",
    "\n",
    "We set the initial reconstruction effort to some share $\\alpha_0$ of the baseline production level, i.e. $L_R^{(0)}=\\alpha X^*$. We then fit the exponential reconstruction curve to match the total damage. We assume that reconstruction is not infinite but stops at some time step $t_{r,R}$:\n",
    "\n",
    "$\n",
    "\\begin{split}\n",
    "    &\\sum_0^{\\infty} L_R(t) = D_0\\\\\n",
    "    \\Leftrightarrow &\\sum_0^{t_{r,R}} L_R^{(0)}e^{-t/\\tau_R} = D_0\\\\\n",
    "    \\Leftrightarrow & L_R^{(0)} \\frac{1 - e ^{-\\frac{t_{r,R} + 1}{\\tau_R}}}{1 - e^{- 1 / \\tau_R}} = D_0\\\\\n",
    "\\end{split}\n",
    "$\n",
    "\n",
    "and we define the time step $t_{r,R}$ as the time step when the reconstruction effort has decreased to some threshold $L_R(t_{r,R}) = f_{r,R} L_R^{(0)}$:\n",
    "\n",
    "$\n",
    "\\begin{split}\n",
    "    & L_R(t_{r,R}) = f_{r,R} L_R^{(0)}\\\\\n",
    "    \\Leftrightarrow & e^{-t_{r,R}/\\tau_R} = f_{r,R}\n",
    "\\end{split}\n",
    "$\n",
    "\n",
    "Integrating in the first equation yields:\n",
    "\n",
    "$\n",
    "\\begin{split}\n",
    "    & L_R^{(0)} \\frac{1 - f_{r,R} e ^{- \\frac{1}{\\tau_R}}}{1 - e^{- \\frac{1}{\\tau_R}}} = D_0\\\\\n",
    "    \\Leftrightarrow & \\tau_R = -ln \\left[ \\frac{\\frac{D_0}{L_0} - 1}{\\frac{D_0}{L_0} - f_{r,R}} \\right] ^{-1}\n",
    "\\end{split}\n",
    "$\n",
    "\n",
    "From the above equation we can then calculate the recovery time step $t_{r,R}$:\n",
    "\n",
    "$\n",
    "\\begin{split}\n",
    "    & e^{-t_{r,R}/\\tau_R} = f_{r,R}\\\\\n",
    "    \\Leftrightarrow & t_{r,R} = \\lceil -ln(f_{r,R}) \\tau_R \\rceil \\\\\n",
    "\\end{split}\n",
    "$\n",
    "\n",
    "Since generally, $t_{r,R} = \\left\\lceil -\\frac{ln(f_{r,R})}{\\tau_R} \\right\\rceil >= -\\frac{ln(f_{r,R})}{\\tau_R}$, we need to introduce a correctional term for $L_R(t = t_{r,R})$, resulting in the following definition of the recovery effort curve:\n",
    "\n",
    "$\n",
    "\\begin{split}\n",
    "    L_R(t)=\n",
    "    \\begin{cases}\n",
    "     L_R^{(0)}e^{-t/\\tau_R} & \\text{  } t<t_{r,R}\\\\\n",
    "     D_0 - \\sum_0^{t_{r,R} - 1} L_R^{(0)}e^{-t/\\tau_R} & \\text{  } t=t_{r,R}\\\\\n",
    "     0 & \\text{  } t>t_{r,R}\\\\\n",
    "\\end{cases}\n",
    "\\end{split}\n",
    "$"
   ]
  },
  {
   "cell_type": "code",
   "execution_count": 8,
   "metadata": {},
   "outputs": [],
   "source": [
    "def get_recovery_curve_a(_state='NJ', _D_0=30.233e9, _alpha=0.01, _f_r_R=0.001, _t_max=1000):\n",
    "    X_star = get_baseline_production(_state)\n",
    "    L_R_0 = _alpha*X_star\n",
    "    tau_R = -1 / np.log((_D_0 / L_R_0 - 1) / (_D_0 / L_R_0 - _f_r_R))\n",
    "    t_r = int(np.ceil(-np.log(_f_r_R) * tau_R))\n",
    "    L = L_R_0 * np.exp(-np.arange(_t_max) / tau_R)\n",
    "    if t_r <= _t_max:\n",
    "        L[t_r] = _D_0 - L[:t_r].sum()\n",
    "    if _t_max > t_r:\n",
    "        L[t_r+1:] = 0\n",
    "    D = np.array([_D_0 - L[:t].sum() for t in range(len(L))])\n",
    "    return L, D"
   ]
  },
  {
   "cell_type": "markdown",
   "metadata": {},
   "source": [
    "With this approach, recovery for New Jersey takes ~27ys if we consider recovery completed after 99% or even ~39ys if we consider recovery completed after 99.9%:"
   ]
  },
  {
   "cell_type": "code",
   "execution_count": 9,
   "metadata": {},
   "outputs": [
    {
     "name": "stdout",
     "output_type": "stream",
     "text": [
      "100% completed after 40.23013698630137 years for alpha=0.01, _f_r_R = 0.001\n",
      "99.9% completed after 36.1945205479452 years\n",
      "99.0% completed after 26.268493150684932 years\n"
     ]
    }
   ],
   "source": [
    "L, D = get_recovery_curve_a(_t_max=100000, _alpha=0.01, _f_r_R=0.001)\n",
    "print(\"100% completed after {0} years for alpha=0.01, _f_r_R = 0.001\".format(np.where(D==0)[0][0] / 365))\n",
    "print(\"99.9% completed after {0} years\".format(np.where(D<=0.001*D_0)[0][0] / 365))\n",
    "print(\"99.0% completed after {0} years\".format(np.where(D<=0.01*D_0)[0][0] / 365))"
   ]
  },
  {
   "cell_type": "code",
   "execution_count": 10,
   "metadata": {},
   "outputs": [
    {
     "name": "stdout",
     "output_type": "stream",
     "text": [
      "100% completed after 27.065753424657533 years for alpha=0.01, _f_r_R = 0.01\n",
      "99.9% completed after 26.50958904109589 years\n",
      "99.0% completed after 23.019178082191782 years\n"
     ]
    }
   ],
   "source": [
    "L, D = get_recovery_curve_a(_t_max=100000, _alpha=0.01, _f_r_R=0.01)\n",
    "print(\"100% completed after {0} years for alpha=0.01, _f_r_R = 0.01\".format(np.where(D==0)[0][0] / 365))\n",
    "print(\"99.9% completed after {0} years\".format(np.where(D<=0.001*D_0)[0][0] / 365))\n",
    "print(\"99.0% completed after {0} years\".format(np.where(D<=0.01*D_0)[0][0] / 365))"
   ]
  },
  {
   "cell_type": "markdown",
   "metadata": {},
   "source": [
    "### 1.2.2 Set recovery time\n",
    "\n",
    "Here, we know the recovery time $t_{r,R}$ at which $L_R(t_{r,R}) = f_{r,R} \\cdot L_R^{(0)}$:\n",
    "\n",
    "$\n",
    "\\begin{split}\n",
    "    L_R(t_{r,R}) &= f_{r,R} \\cdot L_R^{(0)}\\\\\n",
    "    \\Leftrightarrow L_R^{(0)}e^{-t_{r,R}/\\tau_R} &= f_{r,R} \\cdot L_R^{(0)}\\\\\n",
    "    \\Leftrightarrow e^{-t_{r,R}/\\tau_R} &= f_{r,R}\\\\\n",
    "    \\Rightarrow \\tau_R = -\\frac{t_{r,R}}{ln(f_{r,R})}\n",
    "\\end{split}\n",
    "$\n",
    "\n",
    "and we can compute the initial reconstruction effort $L_R^{(0)}$ such that the cumulative reconstruction effort matches the total disaster damage:\n",
    "\n",
    "$\n",
    "\\begin{split}\n",
    "    &\\sum_0^{t_{r,R}} L_R(t) = D_0\\\\\n",
    "    \\Leftrightarrow & \\sum_0^{t_{r,R}} \\left( e^{-1/t_{r,R}} \\right)^{\\tau_R} = \\frac{D_0}{L_R^{(0)}}\\\\\n",
    "    \\Rightarrow & L_R^{(0)} = D_0 \\frac{1 - e^{-1 / \\tau_R}}{1 - e ^{-\\frac{t_{r,R} + 1}{\\tau_R}}}\n",
    "\\end{split}\n",
    "$\n",
    "\n",
    "Four years of recovery are assumed in this report: https://www.commerce.gov/sites/default/files/migrated/reports/sandyfinal101713.pdf"
   ]
  },
  {
   "cell_type": "code",
   "execution_count": 19,
   "metadata": {},
   "outputs": [],
   "source": [
    "def get_recovery_curve_b(_state='NJ', _D_0=30.233e9, _t_r_R=4*365, _f_r_R=0.001, _t_max=1000):\n",
    "    D_sectors = {}\n",
    "    for s, reconstruction_share in reconstruction_sector_shares.items():\n",
    "        D_sectors[s] = reconstruction_share * _D_0 * state_reconstruction_share\n",
    "    L = {}\n",
    "    L_tot = np.zeros(_t_max)\n",
    "    for s, D_s in D_sectors.items():\n",
    "        tau_R = -_t_r_R / np.log(_f_r_R)\n",
    "        L_R_0 = D_s * (1 - np.exp(-1/tau_R)) / (1 - np.exp(-(_t_r_R + 1) / tau_R))\n",
    "        L_s = L_R_0 * np.exp(-np.arange(_t_max) / tau_R)\n",
    "        if _t_max > _t_r_R:\n",
    "            L_s[_t_r_R+1:] = 0\n",
    "        L[s] = L_s\n",
    "        L_tot += L_s\n",
    "    D = np.array([max(_D_0 - L_tot[:t].sum(), 0) for t in range(len(L_tot))])\n",
    "    if _t_max > _t_r_R:\n",
    "        D[_t_r_R+1:] = 0\n",
    "    return L, D"
   ]
  },
  {
   "cell_type": "code",
   "execution_count": 20,
   "metadata": {},
   "outputs": [
    {
     "name": "stderr",
     "output_type": "stream",
     "text": [
      "/home/robin/anaconda3/lib/python3.7/site-packages/ipykernel_launcher.py:5: RuntimeWarning: invalid value encountered in true_divide\n",
      "  \"\"\"\n"
     ]
    },
    {
     "data": {
      "text/plain": [
       "<matplotlib.legend.Legend at 0x7fdf3463f350>"
      ]
     },
     "execution_count": 20,
     "metadata": {},
     "output_type": "execute_result"
    },
    {
     "data": {
      "image/png": "[encoded data removed]",
      "text/plain": [
       "<Figure size 432x288 with 1 Axes>"
      ]
     },
     "metadata": {
      "needs_background": "light"
     },
     "output_type": "display_data"
    }
   ],
   "source": [
    "sector_shares = get_eora_sector_shares('NJ')\n",
    "X_star = get_baseline_production('NJ')\n",
    "L, D = get_recovery_curve_b('NJ', _t_r_R = 6*365)\n",
    "for s, L_s in L.items():\n",
    "    plt.plot(L_s / (X_star * sector_shares[s]), label=s)\n",
    "plt.legend()"
   ]
  },
  {
   "cell_type": "code",
   "execution_count": 13,
   "metadata": {},
   "outputs": [
    {
     "name": "stdout",
     "output_type": "stream",
     "text": [
      "100% completed after 4.0 years for _t_r_R=4*365, _f_r_R = 0.001\n"
     ]
    },
    {
     "ename": "KeyError",
     "evalue": "0",
     "output_type": "error",
     "traceback": [
      "\u001b[0;31m---------------------------------------------------------------------------\u001b[0m",
      "\u001b[0;31mKeyError\u001b[0m                                  Traceback (most recent call last)",
      "\u001b[0;32m<ipython-input-13-55b11d541312>\u001b[0m in \u001b[0;36m<module>\u001b[0;34m\u001b[0m\n\u001b[1;32m      1\u001b[0m \u001b[0mL\u001b[0m\u001b[0;34m,\u001b[0m \u001b[0mD\u001b[0m \u001b[0;34m=\u001b[0m \u001b[0mget_recovery_curve_b\u001b[0m\u001b[0;34m(\u001b[0m\u001b[0m_t_max\u001b[0m\u001b[0;34m=\u001b[0m\u001b[0;36m100000\u001b[0m\u001b[0;34m,\u001b[0m \u001b[0m_t_r_R\u001b[0m\u001b[0;34m=\u001b[0m\u001b[0;36m4\u001b[0m\u001b[0;34m*\u001b[0m\u001b[0;36m365\u001b[0m\u001b[0;34m-\u001b[0m\u001b[0;36m1\u001b[0m\u001b[0;34m,\u001b[0m \u001b[0m_f_r_R\u001b[0m\u001b[0;34m=\u001b[0m\u001b[0;36m0.001\u001b[0m\u001b[0;34m)\u001b[0m\u001b[0;34m\u001b[0m\u001b[0;34m\u001b[0m\u001b[0m\n\u001b[1;32m      2\u001b[0m \u001b[0mprint\u001b[0m\u001b[0;34m(\u001b[0m\u001b[0;34m\"100% completed after {0} years for _t_r_R=4*365, _f_r_R = 0.001\"\u001b[0m\u001b[0;34m.\u001b[0m\u001b[0mformat\u001b[0m\u001b[0;34m(\u001b[0m\u001b[0mnp\u001b[0m\u001b[0;34m.\u001b[0m\u001b[0mwhere\u001b[0m\u001b[0;34m(\u001b[0m\u001b[0mD\u001b[0m\u001b[0;34m==\u001b[0m\u001b[0;36m0\u001b[0m\u001b[0;34m)\u001b[0m\u001b[0;34m[\u001b[0m\u001b[0;36m0\u001b[0m\u001b[0;34m]\u001b[0m\u001b[0;34m[\u001b[0m\u001b[0;36m0\u001b[0m\u001b[0;34m]\u001b[0m \u001b[0;34m/\u001b[0m \u001b[0;36m365\u001b[0m\u001b[0;34m)\u001b[0m\u001b[0;34m)\u001b[0m\u001b[0;34m\u001b[0m\u001b[0;34m\u001b[0m\u001b[0m\n\u001b[0;32m----> 3\u001b[0;31m \u001b[0mprint\u001b[0m\u001b[0;34m(\u001b[0m\u001b[0;34m\"alpha_0 = {}\"\u001b[0m\u001b[0;34m.\u001b[0m\u001b[0mformat\u001b[0m\u001b[0;34m(\u001b[0m\u001b[0mL\u001b[0m\u001b[0;34m[\u001b[0m\u001b[0;36m0\u001b[0m\u001b[0;34m]\u001b[0m \u001b[0;34m/\u001b[0m \u001b[0mget_baseline_production\u001b[0m\u001b[0;34m(\u001b[0m\u001b[0m_state\u001b[0m\u001b[0;34m=\u001b[0m\u001b[0;34m'NY'\u001b[0m\u001b[0;34m)\u001b[0m\u001b[0;34m)\u001b[0m\u001b[0;34m)\u001b[0m\u001b[0;34m\u001b[0m\u001b[0;34m\u001b[0m\u001b[0m\n\u001b[0m\u001b[1;32m      4\u001b[0m \u001b[0mprint\u001b[0m\u001b[0;34m(\u001b[0m\u001b[0;34m\"alpha during the first year: {}\"\u001b[0m\u001b[0;34m.\u001b[0m\u001b[0mformat\u001b[0m\u001b[0;34m(\u001b[0m\u001b[0mL\u001b[0m\u001b[0;34m[\u001b[0m\u001b[0;34m:\u001b[0m\u001b[0;36m365\u001b[0m\u001b[0;34m]\u001b[0m\u001b[0;34m.\u001b[0m\u001b[0msum\u001b[0m\u001b[0;34m(\u001b[0m\u001b[0;34m)\u001b[0m \u001b[0;34m/\u001b[0m \u001b[0;34m(\u001b[0m\u001b[0mget_baseline_production\u001b[0m\u001b[0;34m(\u001b[0m\u001b[0m_state\u001b[0m\u001b[0;34m=\u001b[0m\u001b[0;34m'NY'\u001b[0m\u001b[0;34m)\u001b[0m \u001b[0;34m*\u001b[0m \u001b[0;36m365\u001b[0m\u001b[0;34m)\u001b[0m\u001b[0;34m)\u001b[0m\u001b[0;34m)\u001b[0m\u001b[0;34m\u001b[0m\u001b[0;34m\u001b[0m\u001b[0m\n",
      "\u001b[0;31mKeyError\u001b[0m: 0"
     ]
    }
   ],
   "source": [
    "L, D = get_recovery_curve_b(_t_max=100000, _t_r_R=4*365-1, _f_r_R=0.001)\n",
    "print(\"100% completed after {0} years for _t_r_R=4*365, _f_r_R = 0.001\".format(np.where(D==0)[0][0] / 365))\n",
    "print(\"alpha_0 = {}\".format(L[0] / get_baseline_production(_state='NY')))\n",
    "print(\"alpha during the first year: {}\".format(L[:365].sum() / (get_baseline_production(_state='NY') * 365)))"
   ]
  },
  {
   "cell_type": "markdown",
   "metadata": {},
   "source": [
    "## 1.3 Damage Loss\n",
    "\n",
    "We model damage outages as the output that the not yet repaired assets could produce. For this, we calculate the daily productivity of one capital unit using the national capital-output ratio $r$.\n",
    "\n",
    "$\n",
    "r = \\frac{K}{GDP}\n",
    "$\n",
    "with capital $K$ and $GDP$ on a national level. The daily productivity of capital is then simply \n",
    "\n",
    "$\n",
    "r_d = \\frac{1}{365}r\n",
    "$\n",
    "\n",
    "$\n",
    "L_D(t) = r_d D(t)\n",
    "$"
   ]
  },
  {
   "cell_type": "code",
   "execution_count": null,
   "metadata": {},
   "outputs": [],
   "source": [
    "def get_damage_loss_curve(_D):\n",
    "    r = pd.read_csv('../data/generated/asset_gdp_ratio_by_sector.csv', index_col=[0])\n",
    "    r = r.loc['All industry total', str(year)]\n",
    "    # The value that each $ of productive capital produces per day\n",
    "    r_d = 1 / r / 365\n",
    "    return _D * r_d"
   ]
  },
  {
   "cell_type": "markdown",
   "metadata": {},
   "source": [
    "# 2 Forcing Curves\n",
    "\n",
    "Total forcing is calculated by $f = f_D + f_R + f_{BI}(1 - (f_D + f_R))$\n",
    "\n",
    "Business Recovery time is set to 60 days (i.e. until the end of the year after Sandy). "
   ]
  },
  {
   "cell_type": "code",
   "execution_count": null,
   "metadata": {},
   "outputs": [],
   "source": [
    "def get_total_forcing(recovery_variant, _state='NJ', _t_r_bi=60, _f_r_bi=0.001, _D_0=30.233e9, _alpha=0.01, _f_r_R=0.001, _t_max=1000, _t_r_R=4*365):\n",
    "    X_star = get_baseline_production(_state)\n",
    "    f_bi = get_bi_curve(_state=_state, _t_r_bi=_t_r_bi, _f_r_bi=_f_r_bi, _t_max=_t_max)\n",
    "    L_bi = f_bi * X_star\n",
    "    if recovery_variant=='a':\n",
    "        L_R, D = get_recovery_curve_a(_state=_state, _D_0=_D_0, _alpha=_alpha, _t_max=_t_max)\n",
    "    elif recovery_variant=='b':\n",
    "        L_R, D = get_recovery_curve_b(_state=_state, _D_0=_D_0, _t_r_R=_t_r_R, _f_r_R=_f_r_R, _t_max=_t_max)\n",
    "    L_D = get_damage_loss_curve(D)\n",
    "    f_R = L_R / X_star\n",
    "    f_D = L_D / X_star\n",
    "    f = (f_R + f_D) + f_bi * (1 - (f_R + f_D))\n",
    "#     f = np.maximum(f_bi, f_D) + f_R\n",
    "#     L_bi = f_bi * (1 - (f_R + f_D)) * X_star\n",
    "    L = f * X_star\n",
    "    return (f, f_bi, f_R, f_D), (L, L_bi, L_R, L_D)"
   ]
  },
  {
   "cell_type": "code",
   "execution_count": null,
   "metadata": {},
   "outputs": [],
   "source": [
    "def print_stats(f_a, L_a, _t_max=None):\n",
    "    (f, f_bi, f_R, f_D), (L, L_bi, L_R, L_D) = f_a, L_a\n",
    "    print(\"Total recovery after {} days.\".format(np.where(f==0)[0][0]))\n",
    "    print(\"Damage / Reconstruction recovery after ~{0:2.2f} years\".format(np.where(f_R==0)[0][0]/365))\n",
    "    print(\"Business Interruption recovery after {} days\".format(np.where(f_bi==0)[0][0]))\n",
    "    print(\"\\n\")\n",
    "    print(r\"Initial reconstruction share factor alpha is {0:1.2f}.\".format(f_R[0]))\n",
    "    print(\"Total loss is USD {0:3.2f}bn.\".format(L.sum()/1e9))\n",
    "    print(\"Of this loss, {0:1.2f}% is due to BI, {1:1.2f}% due to R, {2:1.2f}% due to D\".format(\n",
    "        L_bi.sum() / L.sum() * 100, L_R.sum() / L.sum() * 100, L_D.sum() / L.sum() * 100))\n",
    "    print(\"\\n\")\n",
    "    if _t_max is not None:\n",
    "        print(\"Total loss until day {0} is USD {1:3.2f}bn.\".format(_t_max, L[:_t_max].sum()/1e9))\n",
    "        print(\"Of this loss, {0:1.2f}% is due to BI, {1:1.2f}% due to R, {2:1.2f}% due to D\".format(\n",
    "            L_bi[:_t_max].sum() / L[:_t_max].sum() * 100, L_R[:_t_max].sum() / L[:_t_max].sum() * 100, L_D[:_t_max].sum() / L[:_t_max].sum() * 100))"
   ]
  },
  {
   "cell_type": "code",
   "execution_count": null,
   "metadata": {},
   "outputs": [],
   "source": [
    "def make_plots(f, L, _t_max=None):\n",
    "    if _t_max is None:\n",
    "        _t_max = -1\n",
    "    fig, axs = plt.subplots(1, 2, figsize=(11, 4))\n",
    "    axs[0].plot(f[0][:_t_max], label=r'$f$')\n",
    "    axs[0].plot(f[1][:_t_max], label=r'$f_{BI}$')\n",
    "    axs[0].plot(f[2][:_t_max], label=r'$f_{R}$')\n",
    "    axs[0].plot(f[3][:_t_max], label=r'$f_{D}$')\n",
    "    axs[1].plot(L[0][:_t_max], label=r'$L$')\n",
    "    axs[1].plot(L[1][:_t_max], label=r'$L_{BI}$')\n",
    "    axs[1].plot(L[2][:_t_max], label=r'$L_{R}$')\n",
    "    axs[1].plot(L[3][:_t_max], label=r'$L_{D}$')\n",
    "    axs[0].legend()\n",
    "    axs[1].legend()"
   ]
  },
  {
   "cell_type": "markdown",
   "metadata": {},
   "source": [
    "## 2.1 Recovery Variant a ($L_R^{(0)}$ set)\n"
   ]
  },
  {
   "cell_type": "markdown",
   "metadata": {},
   "source": [
    "### Parameter Set 1\n",
    "- $D_0 = \\text{\\$} 30.233$bn\n",
    "- $t_{r,BI} = 60$\n",
    "- $f_{r_BI} = 0.001$\n",
    "- $\\alpha = 0.01$\n",
    "- $f_{r, R} = 0.001$"
   ]
  },
  {
   "cell_type": "code",
   "execution_count": null,
   "metadata": {},
   "outputs": [],
   "source": [
    "f_a, L_a = get_total_forcing('a', _t_max=30000)"
   ]
  },
  {
   "cell_type": "code",
   "execution_count": null,
   "metadata": {},
   "outputs": [],
   "source": [
    "t_plot = np.where(f_a[0]==0)[0][0]\n",
    "make_plots(f_a, L_a, t_plot)"
   ]
  },
  {
   "cell_type": "code",
   "execution_count": null,
   "metadata": {},
   "outputs": [],
   "source": [
    "make_plots(f_a, L_a, 100)"
   ]
  },
  {
   "cell_type": "code",
   "execution_count": null,
   "metadata": {
    "scrolled": false
   },
   "outputs": [],
   "source": [
    "print_stats(f_a, L_a, _t_max=200)"
   ]
  },
  {
   "cell_type": "markdown",
   "metadata": {},
   "source": [
    "### Parameter Set 2 - Variation of alpha\n",
    "- $D_0 = \\text{\\$} 30.233$bn\n",
    "- $t_{r,BI} = 60$\n",
    "- $f_{r_BI} = 0.001$\n",
    "- $\\alpha = 0.05$\n",
    "- $f_{r, R} = 0.001$"
   ]
  },
  {
   "cell_type": "code",
   "execution_count": null,
   "metadata": {},
   "outputs": [],
   "source": [
    "make_plots(*get_total_forcing('a', _t_max=30000, _alpha=0.05), 2000)"
   ]
  },
  {
   "cell_type": "code",
   "execution_count": null,
   "metadata": {},
   "outputs": [],
   "source": []
  },
  {
   "cell_type": "code",
   "execution_count": null,
   "metadata": {
    "scrolled": false
   },
   "outputs": [],
   "source": [
    "print_stats(*get_total_forcing('a', _t_max=30000, _alpha=0.05), _t_max=200)"
   ]
  },
  {
   "cell_type": "markdown",
   "metadata": {},
   "source": [
    "### Parameter Set 3 - Variation of $f_{r, BI}$ and $f_{r, R}$\n",
    "- $D_0 = \\text{\\$} 30.233$bn\n",
    "- $t_{r,BI} = 60$\n",
    "- $f_{r_BI} = 0.01$\n",
    "- $\\alpha = 0.05$\n",
    "- $f_{r, R} = 0.01$"
   ]
  },
  {
   "cell_type": "code",
   "execution_count": null,
   "metadata": {
    "scrolled": true
   },
   "outputs": [],
   "source": [
    "make_plots(*get_total_forcing('a', _t_max=30000, _f_r_bi=0.01, _f_r_R=0.01), 200)"
   ]
  },
  {
   "cell_type": "code",
   "execution_count": null,
   "metadata": {
    "scrolled": false
   },
   "outputs": [],
   "source": [
    "print_stats(*get_total_forcing('a', _t_max=30000, _f_r_bi=0.01, _f_r_R=0.01), _t_max=200)"
   ]
  },
  {
   "cell_type": "markdown",
   "metadata": {},
   "source": [
    "## 2.2 Recovery Variant b ($t_{r,R}$ set)"
   ]
  },
  {
   "cell_type": "markdown",
   "metadata": {},
   "source": [
    "### Parameter Set 1\n",
    "- $D_0 = \\text{\\$} 30.233$bn\n",
    "- $t_{r,BI} = 60$\n",
    "- $f_{r_BI} = 0.001$\n",
    "- $t_{r,R} = 4*365$\n",
    "- $f_{r, R} = 0.001$"
   ]
  },
  {
   "cell_type": "code",
   "execution_count": null,
   "metadata": {},
   "outputs": [],
   "source": [
    "f_b, L_b = get_total_forcing('b', _t_max=30000)"
   ]
  },
  {
   "cell_type": "code",
   "execution_count": null,
   "metadata": {},
   "outputs": [],
   "source": [
    "t_plot = np.where(f_b[0]==0)[0][0]\n",
    "make_plots(f_b, L_b, t_plot)"
   ]
  },
  {
   "cell_type": "code",
   "execution_count": null,
   "metadata": {},
   "outputs": [],
   "source": [
    "make_plots(f_b, L_b, 200)"
   ]
  },
  {
   "cell_type": "code",
   "execution_count": null,
   "metadata": {
    "scrolled": true
   },
   "outputs": [],
   "source": [
    "print_stats(f_b, L_b, _t_max=200)"
   ]
  },
  {
   "cell_type": "markdown",
   "metadata": {},
   "source": [
    "### Parameter Set 2 - Variation of $t_{r,R}$\n",
    "- $D_0 = \\text{\\$} 30.233$bn\n",
    "- $t_{r,BI} = 60$\n",
    "- $f_{r_BI} = 0.001$\n",
    "- $t_{r,R} = 6*365$\n",
    "- $f_{r, R} = 0.001$"
   ]
  },
  {
   "cell_type": "code",
   "execution_count": null,
   "metadata": {
    "scrolled": true
   },
   "outputs": [],
   "source": [
    "make_plots(*get_total_forcing('b', _t_max=30000, _t_r_R=6*365), 200)"
   ]
  },
  {
   "cell_type": "code",
   "execution_count": null,
   "metadata": {
    "scrolled": false
   },
   "outputs": [],
   "source": [
    "print_stats(*get_total_forcing('b', _t_max=30000, _t_r_R=6*365), _t_max=200)"
   ]
  },
  {
   "cell_type": "markdown",
   "metadata": {},
   "source": [
    "## Comparison with old Forcing\n",
    "\n",
    "The old forcing was generated similarly to the function *get_recovery_curve_a* in this script, setting the initial reconstruction effort to the value that corresponds to the initial business interruption in this setup. \n",
    "\n",
    "The area under the forcing curve was then set to match the total disaster loss, however as baseline production the baseline values from the EORA network were used instead of the BEA GDP values like in this setup.\n",
    "\n",
    "The total disaster loss was calculated as $L = r D_0$ \n",
    "\n",
    "Note that also the asset-to-gdp value previously had a calculation error and is now smaller (before ~3, now ~2.3)."
   ]
  },
  {
   "cell_type": "code",
   "execution_count": null,
   "metadata": {},
   "outputs": [],
   "source": [
    "def get_forcing_old(_state='NJ', _D_0=30.233e9, _f_r_R_old=0.001, _t_max=1000):\n",
    "    r = pd.read_csv('/home/robin/repos/hurricanes_hindcasting_remake/forcing_gen/data/Asset-GDP-ratio_by_major_sector_10y_mean_1960-2012.csv')\n",
    "    r = r.set_index('Sector').loc['TOT', str(year)]\n",
    "\n",
    "    L_tot_old = r * _D_0\n",
    "\n",
    "    f_0_old = get_bi_curve(_state=_state)[0]\n",
    "  \n",
    "    baseline_old = Dataset('/home/robin/repos/hurricanes_hindcasting_remake/forcing_gen/data/baseline/EORA_{}/output.nc'.format(year))\n",
    "    region_index = np.where(baseline_old['/region'][:] == 'US.'+_state)[0][0]\n",
    "    X_star_old = baseline_old['agents/production'][0, :, region_index].sum() * 1e3\n",
    "    \n",
    "    L_R_0_old = f_0_old * X_star_old\n",
    "    tau_R_old = -1 / np.log((L_tot_old / L_R_0_old - 1) / (L_tot_old / L_R_0_old - _f_r_R_old))\n",
    "    t_r_old = int(np.ceil(-np.log(_f_r_R_old) * tau_R_old))\n",
    "    L_old = L_R_0_old * np.exp(-np.arange(_t_max) / tau_R_old)\n",
    "    if t_r_old <= _t_max:\n",
    "        L_old[t_r_old] = L_tot_old - L_old[:t_r_old].sum()\n",
    "    if _t_max > t_r_old:\n",
    "        L_old[t_r_old+1:] = 0\n",
    "\n",
    "    f_old = L_old / X_star_old\n",
    "\n",
    "    X_star_new = get_baseline_production(_state)\n",
    "    L_old_adjusted = f_old * X_star_new\n",
    "    return f_old, L_old, L_old_adjusted"
   ]
  },
  {
   "cell_type": "markdown",
   "metadata": {},
   "source": [
    "**New York**"
   ]
  },
  {
   "cell_type": "code",
   "execution_count": null,
   "metadata": {
    "scrolled": true
   },
   "outputs": [],
   "source": [
    "f_old_NY, _, L_old_NY = get_forcing_old('NY')\n",
    "f_old_NY, L_old_NY = tuple([f_old_NY] + [np.zeros(len(f_old_NY))] * 3), tuple([L_old_NY] + [np.zeros(len(L_old_NY))] * 3)\n",
    "print_stats(f_old_NY, L_old_NY, _t_max=200)"
   ]
  },
  {
   "cell_type": "markdown",
   "metadata": {},
   "source": [
    "**New Jersey**"
   ]
  },
  {
   "cell_type": "code",
   "execution_count": null,
   "metadata": {
    "scrolled": true
   },
   "outputs": [],
   "source": [
    "f_old_NJ, _, L_old_NJ = get_forcing_old('NJ')\n",
    "f_old_NJ, L_old_NJ = tuple([f_old_NJ] + [np.zeros(len(f_old_NJ))] * 3), tuple([L_old_NJ] + [np.zeros(len(L_old_NJ))] * 3)\n",
    "print_stats(f_old_NJ, L_old_NJ, _t_max=200)"
   ]
  },
  {
   "cell_type": "markdown",
   "metadata": {},
   "source": [
    "### Comparison Setup a\n",
    "a1:\n",
    "- Variant a\n",
    "- $D_0 = \\text{\\$} 30.233$bn\n",
    "- $t_{r,BI} = 60$\n",
    "- $f_{r_BI} = 0.001$\n",
    "- $\\alpha = 0.01$\n",
    "- $f_{r, R} = 0.001$\n",
    "\n",
    "a2:\n",
    "- Variation to $\\alpha = 0.05$"
   ]
  },
  {
   "cell_type": "markdown",
   "metadata": {},
   "source": [
    "### Comparison Setup b\n",
    "b1: \n",
    "- Variant b\n",
    "- $D_0 = \\text{\\$} 30.233$bn\n",
    "- $t_{r,BI} = 60$\n",
    "- $f_{r_BI} = 0.001$\n",
    "- $f_{r, R} = 0.001$\n",
    "- $t_{r,R} = 4*365$ \n",
    "\n",
    "b2:\n",
    "- Variation to $t_{r,R} = 6*365$\n"
   ]
  },
  {
   "cell_type": "code",
   "execution_count": null,
   "metadata": {},
   "outputs": [],
   "source": [
    "setups = {\n",
    "    'new_a_1': {'recovery_variant': 'a', '_t_max': 30000},\n",
    "    'new_a_2': {'recovery_variant': 'a', '_t_max': 30000, '_alpha': 0.05},\n",
    "    'new_b_1': {'recovery_variant': 'b', '_t_max': 30000},\n",
    "    'new_b_2': {'recovery_variant': 'b', '_t_max': 30000, '_t_r_R': 6*365},\n",
    "}\n",
    "setup_params = {}\n",
    "for setup, setup_param in setups.items():\n",
    "    setup_params[setup] = {}\n",
    "    for _state in ['NJ', 'NY']:\n",
    "        setup_params[setup][_state] = {**setup_param, **{'_state': _state}}\n",
    "\n",
    "f = {\n",
    "    'old': {\n",
    "        'NJ': f_old_NJ,\n",
    "        'NY': f_old_NY,\n",
    "    },\n",
    "}\n",
    "\n",
    "L = {\n",
    "    'old': {\n",
    "        'NJ': L_old_NJ,\n",
    "        'NY': L_old_NY,\n",
    "    },\n",
    "} \n",
    "\n",
    "for setup_key in setup_params.keys():\n",
    "    f[setup_key] = {}\n",
    "    L[setup_key] = {}\n",
    "    for state, params in setup_params[setup_key].items():\n",
    "        f_, L_ = get_total_forcing(**params)\n",
    "        f[setup_key][state] = f_\n",
    "        L[setup_key][state] = L_"
   ]
  },
  {
   "cell_type": "code",
   "execution_count": null,
   "metadata": {},
   "outputs": [],
   "source": [
    "for setup_key in f.keys():\n",
    "    for state in ['NY', 'NJ']:\n",
    "        print(\"\\033[1m\" + state + \": \" + setup_key + \"\\033[0m\")\n",
    "        print_stats(f[setup_key][state], L[setup_key][state], _t_max=200)\n",
    "        print(\"\\n\\n\")"
   ]
  },
  {
   "cell_type": "code",
   "execution_count": null,
   "metadata": {
    "scrolled": false
   },
   "outputs": [],
   "source": [
    "fig, axs = plt.subplots(2, 2, figsize=(15, 12))\n",
    "for setup_key in f.keys():\n",
    "    for row, state in enumerate(['NY', 'NJ']):\n",
    "        clip = 300# if state == 'NJ' else 150\n",
    "        axs[row, 0].plot(f[setup_key][state][0][:clip])\n",
    "        axs[row, 1].plot(L[setup_key][state][0][:clip], label=setup_key)\n",
    "axs[0, 0].set_title('f',rotation=0, fontsize=12, fontweight='bold')\n",
    "axs[0, 1].set_title('L',rotation=0, fontsize=12, fontweight='bold')\n",
    "axs[0, 0].set_ylabel('NY',rotation=0, fontsize=12, fontweight='bold')\n",
    "axs[1, 0].set_ylabel('NJ',rotation=0, fontsize=12, fontweight='bold')\n",
    "axs[1, 1].legend()"
   ]
  },
  {
   "cell_type": "markdown",
   "metadata": {},
   "source": [
    "# 3 Forcing Output\n",
    "\n",
    "Write generated forcing curves to a netcdf-File for Acclimate, using some parameter selection"
   ]
  },
  {
   "cell_type": "code",
   "execution_count": null,
   "metadata": {},
   "outputs": [],
   "source": [
    "parameter_selection = 'new_b_1'\n",
    "forcing_duration = 4*365"
   ]
  },
  {
   "cell_type": "code",
   "execution_count": null,
   "metadata": {},
   "outputs": [],
   "source": [
    "all_sectors = ['FCON', 'AGRI', 'FISH', 'MINQ', 'FOOD', 'TEXL', 'WOOD', 'OILC', 'METL', 'MACH', 'TREQ', 'MANU', 'RECY', 'ELWA', 'CONS', 'REPA', 'WHOT', 'RETT', 'GAST', 'TRAN', 'COMM', 'FINC', 'ADMI', 'EDHE', 'HOUS', 'OTHE', 'REXI']"
   ]
  },
  {
   "cell_type": "code",
   "execution_count": null,
   "metadata": {},
   "outputs": [],
   "source": [
    "def write_ncdf_output(_forcing_curves, _sector_list, _out_dir, _out_name):\n",
    "    max_len = max([len(curve) for curve in _forcing_curves.values()])\n",
    "    with Dataset(path.join(_out_dir, _out_name + '.nc'), 'w') as outfile:\n",
    "        timedim = outfile.createDimension(\"time\")\n",
    "        timevar = outfile.createVariable(\"time\", \"f\", \"time\")\n",
    "        timevar[:] = np.arange(0, max_len)\n",
    "        timevar.units = \"days since 2009-01-01\"\n",
    "        timevar.calendar = \"standard\"\n",
    "\n",
    "        regions = list(_forcing_curves.keys())\n",
    "        regiondim = outfile.createDimension(\"region\", len(regions))\n",
    "        regionvar = outfile.createVariable(\"region\", str, \"region\")\n",
    "        for i, r in enumerate(regions):\n",
    "            regionvar[i] = r\n",
    "\n",
    "        sectors = _sector_list\n",
    "        sectordim = outfile.createDimension(\"sector\", len(sectors))\n",
    "        sectorvar = outfile.createVariable(\"sector\", str, \"sector\")\n",
    "        for i, s in enumerate(sectors):\n",
    "            sectorvar[i] = s\n",
    "\n",
    "        forcing = outfile.createVariable(\"forcing\", \"f\", (\"time\", \"sector\", \"region\"), zlib=True, complevel=7,\n",
    "                                         fill_value=1.0)\n",
    "        for reg, forcing_ts in _forcing_curves.items():\n",
    "            for sec in sectors:\n",
    "                forcing[:, sectors.index(sec), regions.index(reg)] = forcing_ts"
   ]
  },
  {
   "cell_type": "code",
   "execution_count": null,
   "metadata": {},
   "outputs": [],
   "source": [
    "forcing_curves = {}\n",
    "for region, forcing in f[parameter_selection].items():\n",
    "    forcing_curves['US.' + region] = - forcing[0][:forcing_duration] + 1"
   ]
  },
  {
   "cell_type": "code",
   "execution_count": null,
   "metadata": {},
   "outputs": [],
   "source": [
    "write_ncdf_output(forcing_curves, all_sectors, \"../data/generated/\", \"sandy_forcing\")"
   ]
  }
 ],
 "metadata": {
  "kernelspec": {
   "display_name": "Python 3",
   "language": "python",
   "name": "python3"
  },
  "language_info": {
   "codemirror_mode": {
    "name": "ipython",
    "version": 3
   },
   "file_extension": ".py",
   "mimetype": "text/x-python",
   "name": "python",
   "nbconvert_exporter": "python",
   "pygments_lexer": "ipython3",
   "version": "3.7.4"
  }
 },
 "nbformat": 4,
 "nbformat_minor": 4
}
